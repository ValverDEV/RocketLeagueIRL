{
 "cells": [
  {
   "cell_type": "code",
   "execution_count": 4,
   "metadata": {},
   "outputs": [],
   "source": [
    "import numpy as np\n",
    "import matplotlib.pyplot as plt\n",
    "import cv2\n",
    "from Vector2D import Vector2D\n",
    "from scipy.interpolate import CubicSpline\n",
    "from numpy import deg2rad, rad2deg"
   ]
  },
  {
   "cell_type": "code",
   "execution_count": 5,
   "metadata": {},
   "outputs": [],
   "source": [
    "# cam = cv2.VideoCapture(1)\n",
    "# result, image = cam.read()\n",
    "# plt.imshow(image)\n",
    "# cam.release()"
   ]
  },
  {
   "cell_type": "code",
   "execution_count": 6,
   "metadata": {},
   "outputs": [],
   "source": [
    "# Constants\n",
    "\n",
    "circle_radius = 20\n",
    "goal_center = Vector2D(640, 480/2)\n",
    "H = 40"
   ]
  },
  {
   "cell_type": "code",
   "execution_count": 7,
   "metadata": {},
   "outputs": [],
   "source": [
    "def make_triangle_vertices(base_center, H, angle):\n",
    "\n",
    "    \"\"\"Creates 3 vertices for a triangle\n",
    "\n",
    "    Parameters\n",
    "    ----------\n",
    "    base_center: Vector2D\n",
    "        Base center position to use for triangle\n",
    "    H: number\n",
    "        Triangle Height\n",
    "    angle: number\n",
    "        Triangle pointing direction in degrees\n",
    "\n",
    "    Return\n",
    "    ----------\n",
    "    numpy.array\n",
    "        an array of each of the 3 triangle's vertices\n",
    "    \"\"\"\n",
    "\n",
    "    # Base lenght compared to height proportion\n",
    "    base_prop = 1/3\n",
    "    # Half base lenght\n",
    "    l = H*base_prop \n",
    "    # Convert angle to radias\n",
    "    rads = deg2rad(angle)\n",
    "    # Get base center coordinates\n",
    "    x = base_center.x\n",
    "    y = base_center.y\n",
    "    # Calculate base orientation\n",
    "    a = deg2rad(angle - 90)\n",
    "    # Create vertices array\n",
    "    pts = np.array([(x+H*np.cos(rads), y+H*np.sin(rads)), (x+l*np.cos(a), y+l*np.sin(a)), (x-l*np.cos(a), y-l*np.sin(a))], dtype=int)\n",
    "    pts = pts.reshape((-1, 1, 2))\n",
    "    return pts"
   ]
  },
  {
   "cell_type": "code",
   "execution_count": 8,
   "metadata": {},
   "outputs": [],
   "source": [
    "def draw_image(triangle_center, triangle_angle, circle_center):\n",
    "    img = np.ones((480, 640, 3), dtype='uint8')*255\n",
    "    cc_x = circle_center.x\n",
    "    cc_y = circle_center.y\n",
    "    tc_x = triangle_center.x\n",
    "    tc_y = triangle_center.y\n",
    "    triangle_vertices = make_triangle_vertices(triangle_center, H, triangle_angle)\n",
    "    cv2.circle(img, (cc_x, cc_y), circle_radius, (255, 0, 0), -1)\n",
    "    cv2.fillPoly(img, [triangle_vertices], (0, 0, 255))\n",
    "    return img"
   ]
  },
  {
   "cell_type": "code",
   "execution_count": 9,
   "metadata": {},
   "outputs": [
    {
     "name": "stdout",
     "output_type": "stream",
     "text": [
      "-60\n"
     ]
    },
    {
     "data": {
      "text/plain": [
       "<matplotlib.image.AxesImage at 0x7f990faec340>"
      ]
     },
     "execution_count": 9,
     "metadata": {},
     "output_type": "execute_result"
    },
    {
     "data": {
      "image/png": "[encoded data removed]",
      "text/plain": [
       "<Figure size 640x480 with 1 Axes>"
      ]
     },
     "metadata": {},
     "output_type": "display_data"
    }
   ],
   "source": [
    "# Add padding to field\n",
    "pad_field_x = 100+circle_radius\n",
    "pad_field_y = 50+circle_radius\n",
    "\n",
    "# Create random location for ball in the field\n",
    "circle_center_x = np.random.randint(pad_field_x, 640 - pad_field_x)\n",
    "circle_center_y = np.random.randint(pad_field_y, 480 - pad_field_y)\n",
    "circle_center = Vector2D(circle_center_x, circle_center_y)\n",
    "\n",
    "# Define triangle (car) orientation\n",
    "angle = np.random.randint(-90, 90)\n",
    "print(angle)\n",
    "\n",
    "# Create random location for triangle in the field\n",
    "triangle_center_x = np.random.randint(H*2, circle_center_x - 10)\n",
    "triangle_center_y = np.random.randint(H*2, circle_center_y - 10)\n",
    "\n",
    "# Turn location into Vector class\n",
    "triangle_center = Vector2D(triangle_center_x, triangle_center_y)\n",
    "\n",
    "img = draw_image(triangle_center, angle, circle_center)\n",
    "plt.imshow(img)"
   ]
  },
  {
   "attachments": {},
   "cell_type": "markdown",
   "metadata": {},
   "source": [
    "https://www.geeksforgeeks.org/how-to-detect-shapes-in-images-in-python-using-opencv/\n",
    "\n",
    "https://pyimagesearch.com/2016/02/08/opencv-shape-detection/"
   ]
  },
  {
   "cell_type": "code",
   "execution_count": 10,
   "metadata": {},
   "outputs": [],
   "source": [
    "# converting image into grayscale image\n",
    "gray = cv2.cvtColor(img, cv2.COLOR_BGR2GRAY)\n",
    "  \n",
    "# setting threshold of gray image\n",
    "_, threshold = cv2.threshold(gray, 127, 255, cv2.THRESH_BINARY)\n",
    "  \n",
    "# using a findContours() function\n",
    "contours, _ = cv2.findContours(\n",
    "    threshold, cv2.RETR_TREE, cv2.CHAIN_APPROX_SIMPLE)"
   ]
  },
  {
   "cell_type": "code",
   "execution_count": 11,
   "metadata": {},
   "outputs": [],
   "source": [
    "def find_shapes(img):\n",
    "    gray = cv2.cvtColor(img, cv2.COLOR_BGR2GRAY)\n",
    "    \n",
    "    # setting threshold of gray image\n",
    "    _, threshold = cv2.threshold(gray, 127, 255, cv2.THRESH_BINARY)\n",
    "    \n",
    "    # using a findContours() function\n",
    "    contours, _ = cv2.findContours(\n",
    "        threshold, cv2.RETR_TREE, cv2.CHAIN_APPROX_SIMPLE)\n",
    "\n",
    "    i = 0\n",
    "\n",
    "    shapes = []\n",
    "    \n",
    "    # list for storing names of shapes\n",
    "    for contour in contours:\n",
    "    \n",
    "        # here we are ignoring first counter because \n",
    "        # findcontour function detects whole image as shape\n",
    "        if i == 0:\n",
    "            i = 1\n",
    "            continue\n",
    "    \n",
    "        # cv2.approxPloyDP() function to approximate the shape\n",
    "        approx = cv2.approxPolyDP(\n",
    "            contour, 0.04 * cv2.arcLength(contour, True), True)\n",
    "        \n",
    "        # using drawContours() function\n",
    "        # cv2.drawContours(img, [contour], 0, (0, 0, 255), 5)\n",
    "    \n",
    "        # finding center point of shape\n",
    "        M = cv2.moments(contour)\n",
    "        if M['m00'] != 0.0:\n",
    "            x = int(M['m10']/M['m00'])\n",
    "            y = int(M['m01']/M['m00'])\n",
    "\n",
    "            shape = {'center': Vector2D(x, y)}\n",
    "    \n",
    "        # putting shape name at center of each shape\n",
    "        if len(approx) == 3:\n",
    "            shape['shape'] = 'triangle'\n",
    "        else:\n",
    "            shape['shape'] = 'circle'\n",
    "        \n",
    "        shapes.append(shape)\n",
    "\n",
    "    for shape in shapes:\n",
    "        if shape['shape'] == 'triangle':\n",
    "            car_center = shape['center']\n",
    "        if shape['shape'] == 'circle':\n",
    "            ball_center = shape['center']\n",
    "        \n",
    "    return shapes"
   ]
  },
  {
   "cell_type": "code",
   "execution_count": 12,
   "metadata": {},
   "outputs": [],
   "source": [
    "shapes = find_shapes(img)\n",
    "for shape in shapes:\n",
    "   if shape['shape'] == 'triangle':\n",
    "      car_center = shape['center']\n",
    "   if shape['shape'] == 'circle':\n",
    "      ball_center = shape['center']\n",
    "\n",
    "car_x0 = car_center.x\n",
    "car_xf = ball_center.x\n",
    "car_y0 = car_center.y\n",
    "car_yf = ball_center.y"
   ]
  },
  {
   "cell_type": "code",
   "execution_count": 13,
   "metadata": {},
   "outputs": [],
   "source": [
    "def get_line_function(Vec1,Vec2):\n",
    "    x1 = Vec1.x\n",
    "    x2 = Vec2.x\n",
    "    y1 = Vec1.y\n",
    "    y2 = Vec2.y\n",
    "\n",
    "    m = (y2-y1)/(x2-x1)\n",
    "    b = y1 - m*x1\n",
    "\n",
    "    return lambda x: m*x + b\n",
    "\n",
    "ball_goal_func = get_line_function(ball_center, goal_center)"
   ]
  },
  {
   "cell_type": "code",
   "execution_count": 14,
   "metadata": {},
   "outputs": [],
   "source": [
    "def draw_trajectory(img, traj_func, from_, to_, color, thicnkess):\n",
    "    traj_img = img.copy()\n",
    "    traj_x = np.arange(from_.x, to_.x, 1)\n",
    "    for i in range(len(traj_x) - 1):\n",
    "        from_x = traj_x[i]\n",
    "        to_x = traj_x[i+1]\n",
    "        from_y = int(traj_func(from_x))\n",
    "        to_y = int(traj_func(to_x))\n",
    "        from_coord = (from_x, from_y)\n",
    "        to_coord = (to_x, to_y)\n",
    "        traj_img = cv2.line(traj_img, from_coord, to_coord, color, thicnkess)\n",
    "\n",
    "    return traj_img"
   ]
  },
  {
   "cell_type": "code",
   "execution_count": 15,
   "metadata": {},
   "outputs": [
    {
     "data": {
      "text/plain": [
       "<matplotlib.image.AxesImage at 0x7f990f253100>"
      ]
     },
     "execution_count": 15,
     "metadata": {},
     "output_type": "execute_result"
    },
    {
     "data": {
      "image/png": "[encoded data removed]",
      "text/plain": [
       "<Figure size 640x480 with 1 Axes>"
      ]
     },
     "metadata": {},
     "output_type": "display_data"
    }
   ],
   "source": [
    "ball_goal_img = draw_trajectory(img, ball_goal_func, ball_center, goal_center, (255, 0, 0), 5)\n",
    "plt.imshow(ball_goal_img)"
   ]
  },
  {
   "cell_type": "code",
   "execution_count": 16,
   "metadata": {},
   "outputs": [
    {
     "data": {
      "text/plain": [
       "<matplotlib.image.AxesImage at 0x7f990f2d4c70>"
      ]
     },
     "execution_count": 16,
     "metadata": {},
     "output_type": "execute_result"
    },
    {
     "data": {
      "image/png": "[encoded data removed]",
      "text/plain": [
       "<Figure size 640x480 with 1 Axes>"
      ]
     },
     "metadata": {},
     "output_type": "display_data"
    }
   ],
   "source": [
    "point3_x = ball_center.x - 10\n",
    "point3_y = ball_goal_func(point3_x)\n",
    "point3 = Vector2D(point3_x, point3_y)\n",
    "\n",
    "spline_x = [car_center.x, point3.x, ball_center.x]\n",
    "spline_y = [car_center.y, point3.y, ball_center.y]\n",
    "\n",
    "spline = CubicSpline(spline_x, spline_y)\n",
    "\n",
    "space = np.linspace(car_center.x, ball_center.x, 100)\n",
    "\n",
    "car_traj_img = draw_trajectory(ball_goal_img, spline, car_center, ball_center, (0, 255, 0), 5)\n",
    "plt.imshow(car_traj_img)"
   ]
  },
  {
   "attachments": {},
   "cell_type": "markdown",
   "metadata": {},
   "source": [
    "## Medir error\n",
    "\n",
    "- Ubicar coche\n",
    "- Medir diferencia posicionamiento en $y$"
   ]
  },
  {
   "cell_type": "code",
   "execution_count": 17,
   "metadata": {},
   "outputs": [],
   "source": [
    "def get_error(img, spline):\n",
    "    car_found = False\n",
    "    shapes = find_shapes(img)\n",
    "    for shape in shapes:\n",
    "        if shape['shape'] == 'triangle':\n",
    "            car_center = shape['center']\n",
    "            car_found = True\n",
    "\n",
    "    if car_found:\n",
    "        if car_center.x >= car_x0-20 and car_center.x <= car_xf:\n",
    "            return spline(car_center.x) - car_center.y\n",
    "        else:\n",
    "            print('Car out of trajectory')\n",
    "    else:\n",
    "        print('car not found')\n",
    "        return None"
   ]
  },
  {
   "cell_type": "code",
   "execution_count": 18,
   "metadata": {},
   "outputs": [
    {
     "data": {
      "image/png": "[encoded data removed]",
      "text/plain": [
       "<Figure size 640x480 with 1 Axes>"
      ]
     },
     "metadata": {},
     "output_type": "display_data"
    },
    {
     "name": "stdout",
     "output_type": "stream",
     "text": [
      "error: -10.0\n"
     ]
    },
    {
     "data": {
      "image/png": "[encoded data removed]",
      "text/plain": [
       "<Figure size 640x480 with 1 Axes>"
      ]
     },
     "metadata": {},
     "output_type": "display_data"
    },
    {
     "name": "stdout",
     "output_type": "stream",
     "text": [
      "error: 40.68660149511214\n"
     ]
    },
    {
     "data": {
      "image/png": "[encoded data removed]",
      "text/plain": [
       "<Figure size 640x480 with 1 Axes>"
      ]
     },
     "metadata": {},
     "output_type": "display_data"
    },
    {
     "name": "stdout",
     "output_type": "stream",
     "text": [
      "Car out of trajectory\n",
      "error: None\n"
     ]
    },
    {
     "data": {
      "image/png": "[encoded data removed]",
      "text/plain": [
       "<Figure size 640x480 with 1 Axes>"
      ]
     },
     "metadata": {},
     "output_type": "display_data"
    },
    {
     "name": "stdout",
     "output_type": "stream",
     "text": [
      "Car out of trajectory\n",
      "error: None\n"
     ]
    },
    {
     "data": {
      "image/png": "[encoded data removed]",
      "text/plain": [
       "<Figure size 640x480 with 1 Axes>"
      ]
     },
     "metadata": {},
     "output_type": "display_data"
    },
    {
     "name": "stdout",
     "output_type": "stream",
     "text": [
      "Car out of trajectory\n",
      "error: None\n"
     ]
    }
   ],
   "source": [
    "x_move = np.array(list(range(5)), dtype=int)*20\n",
    "y_move = [10, 20, 0, -5, 0]\n",
    "for i in range(len(x_move)):\n",
    "    triangle_center.move(x_move[i], y_move[i])\n",
    "    img = draw_image(triangle_center, angle, circle_center)\n",
    "    img_traj = img.copy()\n",
    "    img_traj = draw_trajectory(img_traj, spline, Vector2D(car_x0, car_y0), circle_center, (0, 255, 0), 5)\n",
    "    plt.imshow(img_traj)\n",
    "    plt.show()\n",
    "    e = get_error(img, spline)\n",
    "    print(f'error: {e}')"
   ]
  },
  {
   "attachments": {},
   "cell_type": "markdown",
   "metadata": {},
   "source": [
    "## Orientación Triángulo"
   ]
  },
  {
   "cell_type": "code",
   "execution_count": 19,
   "metadata": {},
   "outputs": [],
   "source": [
    "def get_angle(point1, point2):\n",
    "    x1, y1 = point1\n",
    "    x2, y2 = point2\n",
    "    return np.arctan((y2 - y1)/(x2 - x1))\n",
    "\n",
    "\n",
    "def find_triangle_orientation(img):\n",
    "    gray = cv2.cvtColor(img, cv2.COLOR_BGR2GRAY)\n",
    "\n",
    "    # setting threshold of gray image\n",
    "    _, threshold = cv2.threshold(gray, 127, 255, cv2.THRESH_BINARY)\n",
    "\n",
    "    # using a findContours() function\n",
    "    contours, _ = cv2.findContours(\n",
    "        threshold, cv2.RETR_TREE, cv2.CHAIN_APPROX_SIMPLE)\n",
    "\n",
    "\n",
    "    i = 0\n",
    "    triangle_vertices = None\n",
    "\n",
    "    shapes = []\n",
    "\n",
    "    # list for storing names of shapes\n",
    "    for contour in contours:\n",
    "\n",
    "        # here we are ignoring first counter because \n",
    "        # findcontour function detects whole image as shape\n",
    "        if i == 0:\n",
    "            i = 1\n",
    "            continue\n",
    "\n",
    "        # cv2.approxPloyDP() function to approximate the shape\n",
    "        approx = cv2.approxPolyDP(\n",
    "            contour, 0.04 * cv2.arcLength(contour, True), True)\n",
    "\n",
    "        if approx.shape[0] == 3:\n",
    "            triangle_vertices = approx.reshape(3, 2)\n",
    "\n",
    "\n",
    "    Lmin = np.inf\n",
    "    # 0 = 1 - 2, 1 = 2 - 3, 2 = 3, 1\n",
    "    shortest = 0\n",
    "    excluded_points = [2, 0, 1]\n",
    "    for i in range(3):\n",
    "        if i == 2:\n",
    "            i = -1\n",
    "        x1, y1 = triangle_vertices[i]\n",
    "        x2, y2 = triangle_vertices[i+1]\n",
    "        L = np.sqrt((x2-x1)**2 + (y2-y1)**2)\n",
    "        if L < Lmin:\n",
    "            Lmin = L\n",
    "            shortest = i\n",
    "            middle_point = ((x1+x2)/2, (y1+y2)/2)\n",
    "    excluded_point = excluded_points[shortest] \n",
    "    direction_point = triangle_vertices[excluded_point]\n",
    "    angle_direction = get_angle(middle_point, direction_point)\n",
    "    return angle_direction"
   ]
  },
  {
   "cell_type": "code",
   "execution_count": 20,
   "metadata": {},
   "outputs": [
    {
     "data": {
      "text/plain": [
       "-59.743562836470744"
      ]
     },
     "execution_count": 20,
     "metadata": {},
     "output_type": "execute_result"
    }
   ],
   "source": [
    "orientation = find_triangle_orientation(img)\n",
    "rad2deg(orientation)"
   ]
  },
  {
   "cell_type": "code",
   "execution_count": 21,
   "metadata": {},
   "outputs": [
    {
     "data": {
      "text/plain": [
       "<matplotlib.image.AxesImage at 0x7f990e03feb0>"
      ]
     },
     "execution_count": 21,
     "metadata": {},
     "output_type": "execute_result"
    },
    {
     "data": {
      "image/png": "[encoded data removed]",
      "text/plain": [
       "<Figure size 640x480 with 1 Axes>"
      ]
     },
     "metadata": {},
     "output_type": "display_data"
    }
   ],
   "source": [
    "plt.imshow(img)"
   ]
  },
  {
   "attachments": {},
   "cell_type": "markdown",
   "metadata": {},
   "source": [
    "## Orientación Inicial Spline\n",
    "\n"
   ]
  },
  {
   "cell_type": "code",
   "execution_count": 22,
   "metadata": {},
   "outputs": [
    {
     "data": {
      "text/plain": [
       "76.14780461009902"
      ]
     },
     "execution_count": 22,
     "metadata": {},
     "output_type": "execute_result"
    }
   ],
   "source": [
    "ref_angle = get_angle((car_x0, car_y0), (car_x0 + 10, spline(car_x0+10)))\n",
    "rad2deg(ref_angle)"
   ]
  },
  {
   "cell_type": "code",
   "execution_count": null,
   "metadata": {},
   "outputs": [],
   "source": [
    "def get_angle_error(ref_angle, img):\n",
    "    return int(ref_angle - find_triangle_orientation(img))\n",
    "\n"
   ]
  }
 ],
 "metadata": {
  "kernelspec": {
   "display_name": "base",
   "language": "python",
   "name": "python3"
  },
  "language_info": {
   "codemirror_mode": {
    "name": "ipython",
    "version": 3
   },
   "file_extension": ".py",
   "mimetype": "text/x-python",
   "name": "python",
   "nbconvert_exporter": "python",
   "pygments_lexer": "ipython3",
   "version": "3.10.9"
  },
  "orig_nbformat": 4
 },
 "nbformat": 4,
 "nbformat_minor": 2
}
